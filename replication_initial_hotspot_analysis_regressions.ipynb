{
 "cells": [
  {
   "cell_type": "markdown",
   "metadata": {},
   "source": [
    "# M12 Seminar: Economic and Social Problems: Insights from Big Data.\n",
    "# Term Paper. \n",
    "# Replication file №2 - initial hotspot analysis (regressions)"
   ]
  },
  {
   "cell_type": "markdown",
   "metadata": {},
   "source": [
    "### Imports"
   ]
  },
  {
   "cell_type": "code",
   "execution_count": 33,
   "metadata": {},
   "outputs": [],
   "source": [
    "import pandas as pd\n",
    "import numpy as np\n",
    "import os\n",
    "import matplotlib.pyplot as plt\n",
    "import seaborn as sns\n",
    "import statsmodels.api as sm\n",
    "from tqdm import tqdm_notebook as tqdm\n",
    "import warnings\n",
    "warnings.filterwarnings('ignore')"
   ]
  },
  {
   "cell_type": "markdown",
   "metadata": {},
   "source": [
    "### US Data - no controls\n",
    "### Original files can be found [here](https://github.com/social-connectedness-index/example-scripts)"
   ]
  },
  {
   "cell_type": "code",
   "execution_count": 52,
   "metadata": {},
   "outputs": [
    {
     "name": "stdout",
     "output_type": "stream",
     "text": [
      "Old minimum distance to the early hotspot = 15.0\n",
      "New minimum distance to the early hotspot = 51.0\n"
     ]
    }
   ],
   "source": [
    "# load SCI data\n",
    "us_sci_covariates = pd.read_csv('covid19_exploration/_intermediate/westchester_sci_covariates.csv', \n",
    "                                encoding='cp1251')\n",
    "# filter out close counties\n",
    "print(f'Old minimum distance to the early hotspot = {np.round(us_sci_covariates.dist.min())}')\n",
    "us_sci_covariates = us_sci_covariates.loc[us_sci_covariates['dist'] > 50.0]\n",
    "print(f'New minimum distance to the early hotspot = {np.round(us_sci_covariates.dist.min())}')\n",
    "us_sci_covariates = us_sci_covariates.sort_values(by='sci', ascending=False).reset_index(drop=True)\n",
    "# take logs of SCI\n",
    "us_sci_covariates['log_sci'] = np.log(us_sci_covariates['sci'])"
   ]
  },
  {
   "cell_type": "code",
   "execution_count": 54,
   "metadata": {},
   "outputs": [
    {
     "data": {
      "text/html": [
       "<div>\n",
       "<style scoped>\n",
       "    .dataframe tbody tr th:only-of-type {\n",
       "        vertical-align: middle;\n",
       "    }\n",
       "\n",
       "    .dataframe tbody tr th {\n",
       "        vertical-align: top;\n",
       "    }\n",
       "\n",
       "    .dataframe thead th {\n",
       "        text-align: right;\n",
       "    }\n",
       "</style>\n",
       "<table border=\"1\" class=\"dataframe\">\n",
       "  <thead>\n",
       "    <tr style=\"text-align: right;\">\n",
       "      <th></th>\n",
       "      <th>label</th>\n",
       "      <th>sci</th>\n",
       "      <th>cases_per_10k</th>\n",
       "    </tr>\n",
       "  </thead>\n",
       "  <tbody>\n",
       "    <tr>\n",
       "      <th>0</th>\n",
       "      <td>Ulster County, New York</td>\n",
       "      <td>47850</td>\n",
       "      <td>10.547996</td>\n",
       "    </tr>\n",
       "    <tr>\n",
       "      <th>1</th>\n",
       "      <td>Nantucket County, Massachusetts</td>\n",
       "      <td>39593</td>\n",
       "      <td>0.000000</td>\n",
       "    </tr>\n",
       "    <tr>\n",
       "      <th>2</th>\n",
       "      <td>Sullivan County, New York</td>\n",
       "      <td>36660</td>\n",
       "      <td>13.327527</td>\n",
       "    </tr>\n",
       "    <tr>\n",
       "      <th>3</th>\n",
       "      <td>Columbia County, New York</td>\n",
       "      <td>30340</td>\n",
       "      <td>5.855468</td>\n",
       "    </tr>\n",
       "    <tr>\n",
       "      <th>4</th>\n",
       "      <td>Dukes County, Massachusetts</td>\n",
       "      <td>29223</td>\n",
       "      <td>0.000000</td>\n",
       "    </tr>\n",
       "    <tr>\n",
       "      <th>5</th>\n",
       "      <td>Greene County, New York</td>\n",
       "      <td>28646</td>\n",
       "      <td>2.092444</td>\n",
       "    </tr>\n",
       "    <tr>\n",
       "      <th>6</th>\n",
       "      <td>Suffolk County, New York</td>\n",
       "      <td>28409</td>\n",
       "      <td>38.668665</td>\n",
       "    </tr>\n",
       "    <tr>\n",
       "      <th>7</th>\n",
       "      <td>Litchfield County, Connecticut</td>\n",
       "      <td>28119</td>\n",
       "      <td>6.126189</td>\n",
       "    </tr>\n",
       "    <tr>\n",
       "      <th>8</th>\n",
       "      <td>Albany County, New York</td>\n",
       "      <td>24884</td>\n",
       "      <td>7.032212</td>\n",
       "    </tr>\n",
       "    <tr>\n",
       "      <th>9</th>\n",
       "      <td>Pike County, Pennsylvania</td>\n",
       "      <td>22811</td>\n",
       "      <td>7.003430</td>\n",
       "    </tr>\n",
       "  </tbody>\n",
       "</table>\n",
       "</div>"
      ],
      "text/plain": [
       "                             label    sci  cases_per_10k\n",
       "0          Ulster County, New York  47850      10.547996\n",
       "1  Nantucket County, Massachusetts  39593       0.000000\n",
       "2        Sullivan County, New York  36660      13.327527\n",
       "3        Columbia County, New York  30340       5.855468\n",
       "4      Dukes County, Massachusetts  29223       0.000000\n",
       "5          Greene County, New York  28646       2.092444\n",
       "6         Suffolk County, New York  28409      38.668665\n",
       "7   Litchfield County, Connecticut  28119       6.126189\n",
       "8          Albany County, New York  24884       7.032212\n",
       "9        Pike County, Pennsylvania  22811       7.003430"
      ]
     },
     "execution_count": 54,
     "metadata": {},
     "output_type": "execute_result"
    }
   ],
   "source": [
    "# top 10 US counties by SCI to Westchester County, New York (distance to the hotspot > 50 miles)\n",
    "us_sci_covariates[['label', 'sci', 'cases_per_10k']].head(10)"
   ]
  },
  {
   "cell_type": "code",
   "execution_count": 55,
   "metadata": {},
   "outputs": [
    {
     "data": {
      "image/png": "[encoded data removed]",
      "text/plain": [
       "<Figure size 432x288 with 1 Axes>"
      ]
     },
     "metadata": {
      "needs_background": "light"
     },
     "output_type": "display_data"
    }
   ],
   "source": [
    "# plot the distribution of SCI across counties\n",
    "plt.hist(us_sci_covariates['log_sci'], bins=100, color='blue', alpha=0.3, ec='black')\n",
    "plt.grid(axis='y')\n",
    "plt.title('SCI to Westchester distribution (dist>50mi)')\n",
    "plt.xlabel('SCI')\n",
    "plt.show()"
   ]
  },
  {
   "cell_type": "code",
   "execution_count": 56,
   "metadata": {},
   "outputs": [],
   "source": [
    "# group log(SCI) into 100 equal-sized bins\n",
    "bins = pd.cut(x=us_sci_covariates['log_sci'], bins=100, precision=3)"
   ]
  },
  {
   "cell_type": "code",
   "execution_count": 40,
   "metadata": {},
   "outputs": [
    {
     "data": {
      "image/png": "[encoded data removed]",
      "text/plain": [
       "<Figure size 432x288 with 1 Axes>"
      ]
     },
     "metadata": {
      "needs_background": "light"
     },
     "output_type": "display_data"
    }
   ],
   "source": [
    "# plot binscatter with quadratic trend and 95% ci\n",
    "sns.regplot(x=us_sci_covariates.groupby(bins).mean()[['log_sci']], \n",
    "            y=us_sci_covariates.groupby(bins).mean()[['cases_per_10k']], \n",
    "            scatter_kws={'alpha':0.5, 'color':'blue'}, \n",
    "            line_kws={'color':'red'}, \n",
    "            order=2)\n",
    "\n",
    "plt.ylabel('Cases per 10k people')\n",
    "plt.xlabel('log(Social Connectedness)')\n",
    "plt.title('Reproduction - Westchester binscatter without controls')\n",
    "plt.grid()\n",
    "plt.show()"
   ]
  },
  {
   "cell_type": "markdown",
   "metadata": {},
   "source": [
    "### US Data - with controls"
   ]
  },
  {
   "cell_type": "markdown",
   "metadata": {},
   "source": [
    "\"... we first regress log(SCI) and cases per 10,000 residents on a set of control variables and plot the residualized values on each axis. Red lines show quadratic fit regressions. The controls for Panel (d) are 100 dummies for the percentile of the county’s geographic distance to Westchester; population density; median household income; and dummies for the six National Center for Health Statistics Urban-Rural county classifications.\""
   ]
  },
  {
   "cell_type": "code",
   "execution_count": 41,
   "metadata": {},
   "outputs": [],
   "source": [
    "# select variables of interest\n",
    "us_sci_covariates_controls = us_sci_covariates[['log_sci', \n",
    "                                                'cases_per_10k', \n",
    "                                                'dist', \n",
    "                                                'med_hhinc2016', \n",
    "                                                'urban_rural_code', \n",
    "                                                'popdensity2010']]"
   ]
  },
  {
   "cell_type": "code",
   "execution_count": 42,
   "metadata": {},
   "outputs": [
    {
     "data": {
      "text/html": [
       "<div>\n",
       "<style scoped>\n",
       "    .dataframe tbody tr th:only-of-type {\n",
       "        vertical-align: middle;\n",
       "    }\n",
       "\n",
       "    .dataframe tbody tr th {\n",
       "        vertical-align: top;\n",
       "    }\n",
       "\n",
       "    .dataframe thead th {\n",
       "        text-align: right;\n",
       "    }\n",
       "</style>\n",
       "<table border=\"1\" class=\"dataframe\">\n",
       "  <thead>\n",
       "    <tr style=\"text-align: right;\">\n",
       "      <th></th>\n",
       "      <th>log_sci</th>\n",
       "      <th>cases_per_10k</th>\n",
       "      <th>dist</th>\n",
       "      <th>med_hhinc2016</th>\n",
       "      <th>urban_rural_code</th>\n",
       "      <th>popdensity2010</th>\n",
       "    </tr>\n",
       "  </thead>\n",
       "  <tbody>\n",
       "    <tr>\n",
       "      <th>0</th>\n",
       "      <td>4.679882</td>\n",
       "      <td>10.547996</td>\n",
       "      <td>61.112783</td>\n",
       "      <td>61863.29358</td>\n",
       "      <td>4</td>\n",
       "      <td>162.326520</td>\n",
       "    </tr>\n",
       "    <tr>\n",
       "      <th>1</th>\n",
       "      <td>4.597618</td>\n",
       "      <td>0.000000</td>\n",
       "      <td>187.561703</td>\n",
       "      <td>88977.23791</td>\n",
       "      <td>6</td>\n",
       "      <td>226.190220</td>\n",
       "    </tr>\n",
       "    <tr>\n",
       "      <th>2</th>\n",
       "      <td>4.564192</td>\n",
       "      <td>13.327527</td>\n",
       "      <td>65.738824</td>\n",
       "      <td>51741.82243</td>\n",
       "      <td>6</td>\n",
       "      <td>80.099533</td>\n",
       "    </tr>\n",
       "    <tr>\n",
       "      <th>3</th>\n",
       "      <td>4.482016</td>\n",
       "      <td>5.855468</td>\n",
       "      <td>75.903426</td>\n",
       "      <td>61497.91792</td>\n",
       "      <td>5</td>\n",
       "      <td>99.409966</td>\n",
       "    </tr>\n",
       "    <tr>\n",
       "      <th>4</th>\n",
       "      <td>4.465725</td>\n",
       "      <td>0.000000</td>\n",
       "      <td>158.881360</td>\n",
       "      <td>63389.85032</td>\n",
       "      <td>5</td>\n",
       "      <td>160.151470</td>\n",
       "    </tr>\n",
       "  </tbody>\n",
       "</table>\n",
       "</div>"
      ],
      "text/plain": [
       "    log_sci  cases_per_10k        dist  med_hhinc2016  urban_rural_code  \\\n",
       "0  4.679882      10.547996   61.112783    61863.29358                 4   \n",
       "1  4.597618       0.000000  187.561703    88977.23791                 6   \n",
       "2  4.564192      13.327527   65.738824    51741.82243                 6   \n",
       "3  4.482016       5.855468   75.903426    61497.91792                 5   \n",
       "4  4.465725       0.000000  158.881360    63389.85032                 5   \n",
       "\n",
       "   popdensity2010  \n",
       "0      162.326520  \n",
       "1      226.190220  \n",
       "2       80.099533  \n",
       "3       99.409966  \n",
       "4      160.151470  "
      ]
     },
     "execution_count": 42,
     "metadata": {},
     "output_type": "execute_result"
    }
   ],
   "source": [
    "# selection result\n",
    "us_sci_covariates_controls.head()"
   ]
  },
  {
   "cell_type": "code",
   "execution_count": 43,
   "metadata": {},
   "outputs": [],
   "source": [
    "# create 'percentile' column for us counties\n",
    "quantiles = np.arange(0.0, 1.0, 0.01)\n",
    "us_sci_covariates_controls['percentile'] = np.nan\n",
    "for q in quantiles:\n",
    "    us_sci_covariates_controls.loc[(us_sci_covariates_controls['dist'] >= \n",
    "                                    np.quantile(us_sci_covariates_controls['dist'].values, q)) & \n",
    "                                   (us_sci_covariates_controls['dist'] < \n",
    "                                    np.quantile(us_sci_covariates_controls['dist'].values, q+0.01)), \n",
    "                                   ['percentile']] = q+0.01"
   ]
  },
  {
   "cell_type": "code",
   "execution_count": 44,
   "metadata": {},
   "outputs": [],
   "source": [
    "# get dummies\n",
    "dist_dummies = pd.get_dummies(data=us_sci_covariates_controls['percentile'], prefix='dist')\n",
    "urban_dummies = pd.get_dummies(data=us_sci_covariates_controls['urban_rural_code'], prefix='urban')"
   ]
  },
  {
   "cell_type": "code",
   "execution_count": 45,
   "metadata": {},
   "outputs": [],
   "source": [
    "# concatenate dummies with the main DataFrame\n",
    "us_sci_covariates_controls = pd.concat([us_sci_covariates_controls.drop(['dist', \n",
    "                                                                         'urban_rural_code', \n",
    "                                                                         'percentile'], axis=1), \n",
    "                                        dist_dummies, \n",
    "                                        urban_dummies], axis=1)"
   ]
  },
  {
   "cell_type": "code",
   "execution_count": 46,
   "metadata": {},
   "outputs": [
    {
     "data": {
      "text/html": [
       "<div>\n",
       "<style scoped>\n",
       "    .dataframe tbody tr th:only-of-type {\n",
       "        vertical-align: middle;\n",
       "    }\n",
       "\n",
       "    .dataframe tbody tr th {\n",
       "        vertical-align: top;\n",
       "    }\n",
       "\n",
       "    .dataframe thead th {\n",
       "        text-align: right;\n",
       "    }\n",
       "</style>\n",
       "<table border=\"1\" class=\"dataframe\">\n",
       "  <thead>\n",
       "    <tr style=\"text-align: right;\">\n",
       "      <th></th>\n",
       "      <th>log_sci</th>\n",
       "      <th>cases_per_10k</th>\n",
       "      <th>med_hhinc2016</th>\n",
       "      <th>popdensity2010</th>\n",
       "      <th>dist_0.01</th>\n",
       "      <th>dist_0.02</th>\n",
       "      <th>dist_0.03</th>\n",
       "      <th>dist_0.04</th>\n",
       "      <th>dist_0.05</th>\n",
       "      <th>dist_0.060000000000000005</th>\n",
       "      <th>...</th>\n",
       "      <th>dist_0.97</th>\n",
       "      <th>dist_0.98</th>\n",
       "      <th>dist_0.99</th>\n",
       "      <th>dist_1.0</th>\n",
       "      <th>urban_1</th>\n",
       "      <th>urban_2</th>\n",
       "      <th>urban_3</th>\n",
       "      <th>urban_4</th>\n",
       "      <th>urban_5</th>\n",
       "      <th>urban_6</th>\n",
       "    </tr>\n",
       "  </thead>\n",
       "  <tbody>\n",
       "    <tr>\n",
       "      <th>0</th>\n",
       "      <td>4.679882</td>\n",
       "      <td>10.547996</td>\n",
       "      <td>61863.29358</td>\n",
       "      <td>162.326520</td>\n",
       "      <td>1</td>\n",
       "      <td>0</td>\n",
       "      <td>0</td>\n",
       "      <td>0</td>\n",
       "      <td>0</td>\n",
       "      <td>0</td>\n",
       "      <td>...</td>\n",
       "      <td>0</td>\n",
       "      <td>0</td>\n",
       "      <td>0</td>\n",
       "      <td>0</td>\n",
       "      <td>0</td>\n",
       "      <td>0</td>\n",
       "      <td>0</td>\n",
       "      <td>1</td>\n",
       "      <td>0</td>\n",
       "      <td>0</td>\n",
       "    </tr>\n",
       "    <tr>\n",
       "      <th>1</th>\n",
       "      <td>4.597618</td>\n",
       "      <td>0.000000</td>\n",
       "      <td>88977.23791</td>\n",
       "      <td>226.190220</td>\n",
       "      <td>0</td>\n",
       "      <td>0</td>\n",
       "      <td>0</td>\n",
       "      <td>1</td>\n",
       "      <td>0</td>\n",
       "      <td>0</td>\n",
       "      <td>...</td>\n",
       "      <td>0</td>\n",
       "      <td>0</td>\n",
       "      <td>0</td>\n",
       "      <td>0</td>\n",
       "      <td>0</td>\n",
       "      <td>0</td>\n",
       "      <td>0</td>\n",
       "      <td>0</td>\n",
       "      <td>0</td>\n",
       "      <td>1</td>\n",
       "    </tr>\n",
       "    <tr>\n",
       "      <th>2</th>\n",
       "      <td>4.564192</td>\n",
       "      <td>13.327527</td>\n",
       "      <td>51741.82243</td>\n",
       "      <td>80.099533</td>\n",
       "      <td>1</td>\n",
       "      <td>0</td>\n",
       "      <td>0</td>\n",
       "      <td>0</td>\n",
       "      <td>0</td>\n",
       "      <td>0</td>\n",
       "      <td>...</td>\n",
       "      <td>0</td>\n",
       "      <td>0</td>\n",
       "      <td>0</td>\n",
       "      <td>0</td>\n",
       "      <td>0</td>\n",
       "      <td>0</td>\n",
       "      <td>0</td>\n",
       "      <td>0</td>\n",
       "      <td>0</td>\n",
       "      <td>1</td>\n",
       "    </tr>\n",
       "    <tr>\n",
       "      <th>3</th>\n",
       "      <td>4.482016</td>\n",
       "      <td>5.855468</td>\n",
       "      <td>61497.91792</td>\n",
       "      <td>99.409966</td>\n",
       "      <td>1</td>\n",
       "      <td>0</td>\n",
       "      <td>0</td>\n",
       "      <td>0</td>\n",
       "      <td>0</td>\n",
       "      <td>0</td>\n",
       "      <td>...</td>\n",
       "      <td>0</td>\n",
       "      <td>0</td>\n",
       "      <td>0</td>\n",
       "      <td>0</td>\n",
       "      <td>0</td>\n",
       "      <td>0</td>\n",
       "      <td>0</td>\n",
       "      <td>0</td>\n",
       "      <td>1</td>\n",
       "      <td>0</td>\n",
       "    </tr>\n",
       "    <tr>\n",
       "      <th>4</th>\n",
       "      <td>4.465725</td>\n",
       "      <td>0.000000</td>\n",
       "      <td>63389.85032</td>\n",
       "      <td>160.151470</td>\n",
       "      <td>0</td>\n",
       "      <td>0</td>\n",
       "      <td>1</td>\n",
       "      <td>0</td>\n",
       "      <td>0</td>\n",
       "      <td>0</td>\n",
       "      <td>...</td>\n",
       "      <td>0</td>\n",
       "      <td>0</td>\n",
       "      <td>0</td>\n",
       "      <td>0</td>\n",
       "      <td>0</td>\n",
       "      <td>0</td>\n",
       "      <td>0</td>\n",
       "      <td>0</td>\n",
       "      <td>1</td>\n",
       "      <td>0</td>\n",
       "    </tr>\n",
       "  </tbody>\n",
       "</table>\n",
       "<p>5 rows × 110 columns</p>\n",
       "</div>"
      ],
      "text/plain": [
       "    log_sci  cases_per_10k  med_hhinc2016  popdensity2010  dist_0.01  \\\n",
       "0  4.679882      10.547996    61863.29358      162.326520          1   \n",
       "1  4.597618       0.000000    88977.23791      226.190220          0   \n",
       "2  4.564192      13.327527    51741.82243       80.099533          1   \n",
       "3  4.482016       5.855468    61497.91792       99.409966          1   \n",
       "4  4.465725       0.000000    63389.85032      160.151470          0   \n",
       "\n",
       "   dist_0.02  dist_0.03  dist_0.04  dist_0.05  dist_0.060000000000000005  ...  \\\n",
       "0          0          0          0          0                          0  ...   \n",
       "1          0          0          1          0                          0  ...   \n",
       "2          0          0          0          0                          0  ...   \n",
       "3          0          0          0          0                          0  ...   \n",
       "4          0          1          0          0                          0  ...   \n",
       "\n",
       "   dist_0.97  dist_0.98  dist_0.99  dist_1.0  urban_1  urban_2  urban_3  \\\n",
       "0          0          0          0         0        0        0        0   \n",
       "1          0          0          0         0        0        0        0   \n",
       "2          0          0          0         0        0        0        0   \n",
       "3          0          0          0         0        0        0        0   \n",
       "4          0          0          0         0        0        0        0   \n",
       "\n",
       "   urban_4  urban_5  urban_6  \n",
       "0        1        0        0  \n",
       "1        0        0        1  \n",
       "2        0        0        1  \n",
       "3        0        1        0  \n",
       "4        0        1        0  \n",
       "\n",
       "[5 rows x 110 columns]"
      ]
     },
     "execution_count": 46,
     "metadata": {},
     "output_type": "execute_result"
    }
   ],
   "source": [
    "# resulting DataFrame with dummies\n",
    "us_sci_covariates_controls.head()"
   ]
  },
  {
   "cell_type": "code",
   "execution_count": 47,
   "metadata": {},
   "outputs": [],
   "source": [
    "# OLS\n",
    "# target variables\n",
    "y1 = us_sci_covariates_controls['log_sci'].values\n",
    "y2 = us_sci_covariates_controls['cases_per_10k'].values\n",
    "# explanatory variables (RHS non constant)\n",
    "x = us_sci_covariates_controls.iloc[:, 2:].values\n",
    "X = sm.add_constant(x) # adding constant"
   ]
  },
  {
   "cell_type": "code",
   "execution_count": 48,
   "metadata": {},
   "outputs": [],
   "source": [
    "# get residuals for SCI\n",
    "results_log_sci = sm.OLS(y1, X).fit()\n",
    "log_sci_resid = results_log_sci.resid\n",
    "# get residuals for Cases\n",
    "results_cases_per_10k = sm.OLS(y2, X).fit()\n",
    "cases_per_10k_resid = results_cases_per_10k.resid"
   ]
  },
  {
   "cell_type": "code",
   "execution_count": 49,
   "metadata": {},
   "outputs": [],
   "source": [
    "# construct DataFrame with residuals\n",
    "resid_df = pd.DataFrame()\n",
    "resid_df['log_sci_resid'] = log_sci_resid\n",
    "resid_df['cases_per_10k_resid'] = cases_per_10k_resid\n",
    "resid_df['log_sci'] = us_sci_covariates_controls['log_sci']"
   ]
  },
  {
   "cell_type": "code",
   "execution_count": 50,
   "metadata": {},
   "outputs": [
    {
     "data": {
      "image/png": "[encoded data removed]",
      "text/plain": [
       "<Figure size 432x288 with 1 Axes>"
      ]
     },
     "metadata": {
      "needs_background": "light"
     },
     "output_type": "display_data"
    }
   ],
   "source": [
    "# group log(SCI) residual into 100 equal-sized bins and plot binscatters\n",
    "bins_resid = pd.cut(x=resid_df['log_sci_resid'], bins=100, precision=3)\n",
    "\n",
    "sns.regplot(x=resid_df.groupby(bins_resid).mean()[['log_sci_resid']], \n",
    "            y=resid_df.groupby(bins_resid).mean()[['cases_per_10k_resid']], \n",
    "            scatter_kws={'alpha':0.5, 'color':'blue'}, \n",
    "            line_kws={'color':'red'}, \n",
    "            order=2)\n",
    "\n",
    "plt.ylabel('Cases per 10k people (residual)')\n",
    "plt.xlabel('log(Social Connectedness) (residual)')\n",
    "plt.title('Reproduction - Westchester binscatter with controls')\n",
    "plt.grid()\n",
    "plt.show()"
   ]
  },
  {
   "cell_type": "code",
   "execution_count": 51,
   "metadata": {},
   "outputs": [
    {
     "data": {
      "image/png": "[encoded data removed]",
      "text/plain": [
       "<Figure size 432x288 with 1 Axes>"
      ]
     },
     "metadata": {
      "needs_background": "light"
     },
     "output_type": "display_data"
    }
   ],
   "source": [
    "# group log(SCI) into 100 equal-sized bins and plot binscatters\n",
    "bins_resid = pd.cut(x=resid_df['log_sci'], bins=100, precision=3)\n",
    "\n",
    "sns.regplot(x=resid_df.groupby(bins_resid).mean()[['log_sci']], \n",
    "            y=resid_df.groupby(bins_resid).mean()[['cases_per_10k_resid']], \n",
    "            scatter_kws={'alpha':0.5, 'color':'blue'}, \n",
    "            line_kws={'color':'red'}, \n",
    "            order=2)\n",
    "\n",
    "plt.ylabel('Cases per 10k people (residual)')\n",
    "plt.xlabel('log(Social Connectedness)')\n",
    "plt.title('Reproduction - Westchester binscatter with controls')\n",
    "plt.grid()\n",
    "plt.show()"
   ]
  },
  {
   "cell_type": "markdown",
   "metadata": {},
   "source": [
    "### Italy data - no controls"
   ]
  },
  {
   "cell_type": "code",
   "execution_count": 19,
   "metadata": {},
   "outputs": [
    {
     "name": "stdout",
     "output_type": "stream",
     "text": [
      "Old minimum distance to the early hotspot = 0.0\n",
      "New minimum distance to the early hotspot = 51.0\n"
     ]
    }
   ],
   "source": [
    "# load SCI data\n",
    "it_sci_covariates = pd.read_csv('covid19_exploration/_intermediate/lodi_sci_covariates.csv', \n",
    "                                encoding='cp1251')\n",
    "# filter out close provinces\n",
    "print(f'Old minimum distance to the early hotspot = {np.round(it_sci_covariates.dist.min())}')\n",
    "it_sci_covariates = it_sci_covariates.loc[it_sci_covariates['dist'] > 50.0]\n",
    "print(f'New minimum distance to the early hotspot = {np.round(it_sci_covariates.dist.min())}')\n",
    "# sort observations\n",
    "it_sci_covariates = it_sci_covariates.sort_values(by='sci', ascending=False).reset_index(drop=True)\n",
    "# take logs of SCI\n",
    "it_sci_covariates['log_sci'] = np.log(it_sci_covariates['sci'])"
   ]
  },
  {
   "cell_type": "code",
   "execution_count": 20,
   "metadata": {},
   "outputs": [
    {
     "data": {
      "text/html": [
       "<div>\n",
       "<style scoped>\n",
       "    .dataframe tbody tr th:only-of-type {\n",
       "        vertical-align: middle;\n",
       "    }\n",
       "\n",
       "    .dataframe tbody tr th {\n",
       "        vertical-align: top;\n",
       "    }\n",
       "\n",
       "    .dataframe thead th {\n",
       "        text-align: right;\n",
       "    }\n",
       "</style>\n",
       "<table border=\"1\" class=\"dataframe\">\n",
       "  <thead>\n",
       "    <tr style=\"text-align: right;\">\n",
       "      <th></th>\n",
       "      <th>nuts3_code</th>\n",
       "      <th>sci</th>\n",
       "      <th>cases_per_10k</th>\n",
       "      <th>dist</th>\n",
       "    </tr>\n",
       "  </thead>\n",
       "  <tbody>\n",
       "    <tr>\n",
       "      <th>0</th>\n",
       "      <td>ITC46</td>\n",
       "      <td>47798.0</td>\n",
       "      <td>77.981342</td>\n",
       "      <td>64.965373</td>\n",
       "    </tr>\n",
       "    <tr>\n",
       "      <th>1</th>\n",
       "      <td>ITC4D</td>\n",
       "      <td>42647.0</td>\n",
       "      <td>27.096540</td>\n",
       "      <td>50.662781</td>\n",
       "    </tr>\n",
       "    <tr>\n",
       "      <th>2</th>\n",
       "      <td>ITC44</td>\n",
       "      <td>39248.0</td>\n",
       "      <td>24.586142</td>\n",
       "      <td>121.257001</td>\n",
       "    </tr>\n",
       "    <tr>\n",
       "      <th>3</th>\n",
       "      <td>ITC43</td>\n",
       "      <td>36104.0</td>\n",
       "      <td>42.341419</td>\n",
       "      <td>76.147999</td>\n",
       "    </tr>\n",
       "    <tr>\n",
       "      <th>4</th>\n",
       "      <td>ITI11</td>\n",
       "      <td>35345.0</td>\n",
       "      <td>27.725442</td>\n",
       "      <td>113.739006</td>\n",
       "    </tr>\n",
       "    <tr>\n",
       "      <th>5</th>\n",
       "      <td>ITC32</td>\n",
       "      <td>35315.0</td>\n",
       "      <td>8.962960</td>\n",
       "      <td>146.866527</td>\n",
       "    </tr>\n",
       "    <tr>\n",
       "      <th>6</th>\n",
       "      <td>ITH52</td>\n",
       "      <td>34707.0</td>\n",
       "      <td>41.287623</td>\n",
       "      <td>72.475284</td>\n",
       "    </tr>\n",
       "    <tr>\n",
       "      <th>7</th>\n",
       "      <td>ITH59</td>\n",
       "      <td>33824.0</td>\n",
       "      <td>40.969392</td>\n",
       "      <td>269.163430</td>\n",
       "    </tr>\n",
       "    <tr>\n",
       "      <th>8</th>\n",
       "      <td>ITC47</td>\n",
       "      <td>33720.0</td>\n",
       "      <td>65.058515</td>\n",
       "      <td>77.587660</td>\n",
       "    </tr>\n",
       "    <tr>\n",
       "      <th>9</th>\n",
       "      <td>ITC41</td>\n",
       "      <td>30620.0</td>\n",
       "      <td>9.724568</td>\n",
       "      <td>89.505414</td>\n",
       "    </tr>\n",
       "  </tbody>\n",
       "</table>\n",
       "</div>"
      ],
      "text/plain": [
       "  nuts3_code      sci  cases_per_10k        dist\n",
       "0      ITC46  47798.0      77.981342   64.965373\n",
       "1      ITC4D  42647.0      27.096540   50.662781\n",
       "2      ITC44  39248.0      24.586142  121.257001\n",
       "3      ITC43  36104.0      42.341419   76.147999\n",
       "4      ITI11  35345.0      27.725442  113.739006\n",
       "5      ITC32  35315.0       8.962960  146.866527\n",
       "6      ITH52  34707.0      41.287623   72.475284\n",
       "7      ITH59  33824.0      40.969392  269.163430\n",
       "8      ITC47  33720.0      65.058515   77.587660\n",
       "9      ITC41  30620.0       9.724568   89.505414"
      ]
     },
     "execution_count": 20,
     "metadata": {},
     "output_type": "execute_result"
    }
   ],
   "source": [
    "# top 10 Italian provinces by SCI to Lodi (distance to the hotspot > 50 miles)\n",
    "it_sci_covariates[['nuts3_code', 'sci', 'cases_per_10k', 'dist']].head(10)"
   ]
  },
  {
   "cell_type": "code",
   "execution_count": 22,
   "metadata": {},
   "outputs": [
    {
     "data": {
      "image/png": "[encoded data removed]",
      "text/plain": [
       "<Figure size 432x288 with 1 Axes>"
      ]
     },
     "metadata": {
      "needs_background": "light"
     },
     "output_type": "display_data"
    }
   ],
   "source": [
    "# distribution of SCI to Lodi across Italian provinces\n",
    "plt.hist(it_sci_covariates['log_sci'], bins=10, color='blue', alpha=0.3, ec='black')\n",
    "plt.grid(axis='y')\n",
    "plt.title('SCI to Lodi distribution (dist>50km)')\n",
    "plt.xlabel('SCI')\n",
    "plt.show()"
   ]
  },
  {
   "cell_type": "code",
   "execution_count": 23,
   "metadata": {},
   "outputs": [
    {
     "data": {
      "image/png": "[encoded data removed]",
      "text/plain": [
       "<Figure size 432x288 with 1 Axes>"
      ]
     },
     "metadata": {
      "needs_background": "light"
     },
     "output_type": "display_data"
    }
   ],
   "source": [
    "# group log(SCI) into 30 equal-sized bins and plot binscatters\n",
    "bins = pd.cut(x=it_sci_covariates['log_sci'], bins=30, precision=3)\n",
    "\n",
    "sns.regplot(x=it_sci_covariates.groupby(bins).mean()[['log_sci']], \n",
    "            y=it_sci_covariates.groupby(bins).mean()[['cases_per_10k']], \n",
    "            scatter_kws={'alpha':0.5, 'color':'blue'}, \n",
    "            line_kws={'color':'red'}, \n",
    "            order=2)\n",
    "\n",
    "plt.ylabel('Cases per 10k people')\n",
    "plt.xlabel('log(Social Connectedness)')\n",
    "plt.title('Reproduction - Lodi binscatter without controls')\n",
    "plt.grid()\n",
    "plt.show()"
   ]
  },
  {
   "cell_type": "markdown",
   "metadata": {},
   "source": [
    "### Italy data - with controls"
   ]
  },
  {
   "cell_type": "markdown",
   "metadata": {},
   "source": [
    "\"However, we first regress log(SCI) and cases per 10,000 residents on a set of control variables and plot the residualized values on each axis. Red lines show quadratic fit regressions. The controls for Panel (d) are 20 dummies for quantiles of the province’s geographic distance to Lodi; GDP per inhabitant; and population density.\""
   ]
  },
  {
   "cell_type": "code",
   "execution_count": 24,
   "metadata": {},
   "outputs": [],
   "source": [
    "# selevt variables of interest\n",
    "it_sci_covariates_controls = it_sci_covariates[['log_sci', \n",
    "                                                 'cases_per_10k', \n",
    "                                                 'dist', \n",
    "                                                 'gdp_per_hab', \n",
    "                                                 'pop_per_km']]"
   ]
  },
  {
   "cell_type": "code",
   "execution_count": 25,
   "metadata": {},
   "outputs": [
    {
     "data": {
      "text/html": [
       "<div>\n",
       "<style scoped>\n",
       "    .dataframe tbody tr th:only-of-type {\n",
       "        vertical-align: middle;\n",
       "    }\n",
       "\n",
       "    .dataframe tbody tr th {\n",
       "        vertical-align: top;\n",
       "    }\n",
       "\n",
       "    .dataframe thead th {\n",
       "        text-align: right;\n",
       "    }\n",
       "</style>\n",
       "<table border=\"1\" class=\"dataframe\">\n",
       "  <thead>\n",
       "    <tr style=\"text-align: right;\">\n",
       "      <th></th>\n",
       "      <th>log_sci</th>\n",
       "      <th>cases_per_10k</th>\n",
       "      <th>dist</th>\n",
       "      <th>gdp_per_hab</th>\n",
       "      <th>pop_per_km</th>\n",
       "    </tr>\n",
       "  </thead>\n",
       "  <tbody>\n",
       "    <tr>\n",
       "      <th>0</th>\n",
       "      <td>10.774739</td>\n",
       "      <td>77.981342</td>\n",
       "      <td>64.965373</td>\n",
       "      <td>32700</td>\n",
       "      <td>410.6</td>\n",
       "    </tr>\n",
       "    <tr>\n",
       "      <th>1</th>\n",
       "      <td>10.660712</td>\n",
       "      <td>27.096540</td>\n",
       "      <td>50.662781</td>\n",
       "      <td>30600</td>\n",
       "      <td>2160.4</td>\n",
       "    </tr>\n",
       "    <tr>\n",
       "      <th>2</th>\n",
       "      <td>10.577656</td>\n",
       "      <td>24.586142</td>\n",
       "      <td>121.257001</td>\n",
       "      <td>29200</td>\n",
       "      <td>57.4</td>\n",
       "    </tr>\n",
       "    <tr>\n",
       "      <th>3</th>\n",
       "      <td>10.494159</td>\n",
       "      <td>42.341419</td>\n",
       "      <td>76.147999</td>\n",
       "      <td>30800</td>\n",
       "      <td>459.1</td>\n",
       "    </tr>\n",
       "    <tr>\n",
       "      <th>4</th>\n",
       "      <td>10.472912</td>\n",
       "      <td>27.725442</td>\n",
       "      <td>113.739006</td>\n",
       "      <td>24700</td>\n",
       "      <td>169.3</td>\n",
       "    </tr>\n",
       "  </tbody>\n",
       "</table>\n",
       "</div>"
      ],
      "text/plain": [
       "     log_sci  cases_per_10k        dist  gdp_per_hab  pop_per_km\n",
       "0  10.774739      77.981342   64.965373        32700       410.6\n",
       "1  10.660712      27.096540   50.662781        30600      2160.4\n",
       "2  10.577656      24.586142  121.257001        29200        57.4\n",
       "3  10.494159      42.341419   76.147999        30800       459.1\n",
       "4  10.472912      27.725442  113.739006        24700       169.3"
      ]
     },
     "execution_count": 25,
     "metadata": {},
     "output_type": "execute_result"
    }
   ],
   "source": [
    "# resulting dataframe\n",
    "it_sci_covariates_controls.head()"
   ]
  },
  {
   "cell_type": "code",
   "execution_count": 26,
   "metadata": {},
   "outputs": [],
   "source": [
    "# create 'percentile' column for us counties\n",
    "quantiles = np.arange(0.0, 1.0, 0.05)\n",
    "it_sci_covariates_controls['percentile'] = np.nan\n",
    "for q in quantiles:\n",
    "    it_sci_covariates_controls.loc[(it_sci_covariates_controls['dist'] >= \n",
    "                                    np.quantile(it_sci_covariates_controls['dist'].values, q)) & \n",
    "                                   (it_sci_covariates_controls['dist'] < \n",
    "                                    np.quantile(it_sci_covariates_controls['dist'].values, q+0.05)), \n",
    "                                   ['percentile']] = q+0.05"
   ]
  },
  {
   "cell_type": "code",
   "execution_count": 27,
   "metadata": {},
   "outputs": [],
   "source": [
    "# get dummies\n",
    "dist_dummies = pd.get_dummies(data=it_sci_covariates_controls['percentile'], prefix='dist')"
   ]
  },
  {
   "cell_type": "code",
   "execution_count": 28,
   "metadata": {},
   "outputs": [],
   "source": [
    "# concatenate main DataFrame and dummies\n",
    "it_sci_covariates_controls = pd.concat([it_sci_covariates_controls.drop(['dist', \n",
    "                                                                         'percentile'], axis=1), \n",
    "                                        dist_dummies], axis=1)"
   ]
  },
  {
   "cell_type": "code",
   "execution_count": 29,
   "metadata": {},
   "outputs": [
    {
     "data": {
      "text/html": [
       "<div>\n",
       "<style scoped>\n",
       "    .dataframe tbody tr th:only-of-type {\n",
       "        vertical-align: middle;\n",
       "    }\n",
       "\n",
       "    .dataframe tbody tr th {\n",
       "        vertical-align: top;\n",
       "    }\n",
       "\n",
       "    .dataframe thead th {\n",
       "        text-align: right;\n",
       "    }\n",
       "</style>\n",
       "<table border=\"1\" class=\"dataframe\">\n",
       "  <thead>\n",
       "    <tr style=\"text-align: right;\">\n",
       "      <th></th>\n",
       "      <th>log_sci</th>\n",
       "      <th>cases_per_10k</th>\n",
       "      <th>gdp_per_hab</th>\n",
       "      <th>pop_per_km</th>\n",
       "      <th>dist_0.05</th>\n",
       "      <th>dist_0.1</th>\n",
       "      <th>dist_0.15000000000000002</th>\n",
       "      <th>dist_0.2</th>\n",
       "      <th>dist_0.25</th>\n",
       "      <th>dist_0.3</th>\n",
       "      <th>...</th>\n",
       "      <th>dist_0.55</th>\n",
       "      <th>dist_0.6000000000000001</th>\n",
       "      <th>dist_0.6500000000000001</th>\n",
       "      <th>dist_0.7000000000000001</th>\n",
       "      <th>dist_0.7500000000000001</th>\n",
       "      <th>dist_0.8</th>\n",
       "      <th>dist_0.8500000000000001</th>\n",
       "      <th>dist_0.9000000000000001</th>\n",
       "      <th>dist_0.9500000000000001</th>\n",
       "      <th>dist_1.0</th>\n",
       "    </tr>\n",
       "  </thead>\n",
       "  <tbody>\n",
       "    <tr>\n",
       "      <th>0</th>\n",
       "      <td>10.774739</td>\n",
       "      <td>77.981342</td>\n",
       "      <td>32700</td>\n",
       "      <td>410.6</td>\n",
       "      <td>1</td>\n",
       "      <td>0</td>\n",
       "      <td>0</td>\n",
       "      <td>0</td>\n",
       "      <td>0</td>\n",
       "      <td>0</td>\n",
       "      <td>...</td>\n",
       "      <td>0</td>\n",
       "      <td>0</td>\n",
       "      <td>0</td>\n",
       "      <td>0</td>\n",
       "      <td>0</td>\n",
       "      <td>0</td>\n",
       "      <td>0</td>\n",
       "      <td>0</td>\n",
       "      <td>0</td>\n",
       "      <td>0</td>\n",
       "    </tr>\n",
       "    <tr>\n",
       "      <th>1</th>\n",
       "      <td>10.660712</td>\n",
       "      <td>27.096540</td>\n",
       "      <td>30600</td>\n",
       "      <td>2160.4</td>\n",
       "      <td>1</td>\n",
       "      <td>0</td>\n",
       "      <td>0</td>\n",
       "      <td>0</td>\n",
       "      <td>0</td>\n",
       "      <td>0</td>\n",
       "      <td>...</td>\n",
       "      <td>0</td>\n",
       "      <td>0</td>\n",
       "      <td>0</td>\n",
       "      <td>0</td>\n",
       "      <td>0</td>\n",
       "      <td>0</td>\n",
       "      <td>0</td>\n",
       "      <td>0</td>\n",
       "      <td>0</td>\n",
       "      <td>0</td>\n",
       "    </tr>\n",
       "    <tr>\n",
       "      <th>2</th>\n",
       "      <td>10.577656</td>\n",
       "      <td>24.586142</td>\n",
       "      <td>29200</td>\n",
       "      <td>57.4</td>\n",
       "      <td>0</td>\n",
       "      <td>0</td>\n",
       "      <td>0</td>\n",
       "      <td>1</td>\n",
       "      <td>0</td>\n",
       "      <td>0</td>\n",
       "      <td>...</td>\n",
       "      <td>0</td>\n",
       "      <td>0</td>\n",
       "      <td>0</td>\n",
       "      <td>0</td>\n",
       "      <td>0</td>\n",
       "      <td>0</td>\n",
       "      <td>0</td>\n",
       "      <td>0</td>\n",
       "      <td>0</td>\n",
       "      <td>0</td>\n",
       "    </tr>\n",
       "    <tr>\n",
       "      <th>3</th>\n",
       "      <td>10.494159</td>\n",
       "      <td>42.341419</td>\n",
       "      <td>30800</td>\n",
       "      <td>459.1</td>\n",
       "      <td>1</td>\n",
       "      <td>0</td>\n",
       "      <td>0</td>\n",
       "      <td>0</td>\n",
       "      <td>0</td>\n",
       "      <td>0</td>\n",
       "      <td>...</td>\n",
       "      <td>0</td>\n",
       "      <td>0</td>\n",
       "      <td>0</td>\n",
       "      <td>0</td>\n",
       "      <td>0</td>\n",
       "      <td>0</td>\n",
       "      <td>0</td>\n",
       "      <td>0</td>\n",
       "      <td>0</td>\n",
       "      <td>0</td>\n",
       "    </tr>\n",
       "    <tr>\n",
       "      <th>4</th>\n",
       "      <td>10.472912</td>\n",
       "      <td>27.725442</td>\n",
       "      <td>24700</td>\n",
       "      <td>169.3</td>\n",
       "      <td>0</td>\n",
       "      <td>0</td>\n",
       "      <td>1</td>\n",
       "      <td>0</td>\n",
       "      <td>0</td>\n",
       "      <td>0</td>\n",
       "      <td>...</td>\n",
       "      <td>0</td>\n",
       "      <td>0</td>\n",
       "      <td>0</td>\n",
       "      <td>0</td>\n",
       "      <td>0</td>\n",
       "      <td>0</td>\n",
       "      <td>0</td>\n",
       "      <td>0</td>\n",
       "      <td>0</td>\n",
       "      <td>0</td>\n",
       "    </tr>\n",
       "  </tbody>\n",
       "</table>\n",
       "<p>5 rows × 24 columns</p>\n",
       "</div>"
      ],
      "text/plain": [
       "     log_sci  cases_per_10k  gdp_per_hab  pop_per_km  dist_0.05  dist_0.1  \\\n",
       "0  10.774739      77.981342        32700       410.6          1         0   \n",
       "1  10.660712      27.096540        30600      2160.4          1         0   \n",
       "2  10.577656      24.586142        29200        57.4          0         0   \n",
       "3  10.494159      42.341419        30800       459.1          1         0   \n",
       "4  10.472912      27.725442        24700       169.3          0         0   \n",
       "\n",
       "   dist_0.15000000000000002  dist_0.2  dist_0.25  dist_0.3  ...  dist_0.55  \\\n",
       "0                         0         0          0         0  ...          0   \n",
       "1                         0         0          0         0  ...          0   \n",
       "2                         0         1          0         0  ...          0   \n",
       "3                         0         0          0         0  ...          0   \n",
       "4                         1         0          0         0  ...          0   \n",
       "\n",
       "   dist_0.6000000000000001  dist_0.6500000000000001  dist_0.7000000000000001  \\\n",
       "0                        0                        0                        0   \n",
       "1                        0                        0                        0   \n",
       "2                        0                        0                        0   \n",
       "3                        0                        0                        0   \n",
       "4                        0                        0                        0   \n",
       "\n",
       "   dist_0.7500000000000001  dist_0.8  dist_0.8500000000000001  \\\n",
       "0                        0         0                        0   \n",
       "1                        0         0                        0   \n",
       "2                        0         0                        0   \n",
       "3                        0         0                        0   \n",
       "4                        0         0                        0   \n",
       "\n",
       "   dist_0.9000000000000001  dist_0.9500000000000001  dist_1.0  \n",
       "0                        0                        0         0  \n",
       "1                        0                        0         0  \n",
       "2                        0                        0         0  \n",
       "3                        0                        0         0  \n",
       "4                        0                        0         0  \n",
       "\n",
       "[5 rows x 24 columns]"
      ]
     },
     "execution_count": 29,
     "metadata": {},
     "output_type": "execute_result"
    }
   ],
   "source": [
    "# resulting dataframe with dummies\n",
    "it_sci_covariates_controls.head()"
   ]
  },
  {
   "cell_type": "code",
   "execution_count": 30,
   "metadata": {},
   "outputs": [],
   "source": [
    "# get residuals of OLS\n",
    "\n",
    "# target variables\n",
    "y1 = it_sci_covariates_controls['log_sci'].values\n",
    "y2 = it_sci_covariates_controls['cases_per_10k'].values\n",
    "# explanatory variables (RHS non constant)\n",
    "x = it_sci_covariates_controls.iloc[:, 2:].values\n",
    "X = sm.add_constant(x) # adding constant\n",
    "# get OLS residuals for SCI\n",
    "results_log_sci = sm.OLS(y1, X).fit()\n",
    "log_sci_resid = results_log_sci.resid\n",
    "# get OLS residuals for Cases\n",
    "results_cases_per_10k = sm.OLS(y2, X).fit()\n",
    "cases_per_10k_resid = results_cases_per_10k.resid\n",
    "# form a DataFrame with residuals\n",
    "it_resid_df = pd.DataFrame()\n",
    "it_resid_df['log_sci_resid'] = log_sci_resid\n",
    "it_resid_df['cases_per_10k_resid'] = cases_per_10k_resid\n",
    "it_resid_df['log_sci'] = it_sci_covariates_controls['log_sci']"
   ]
  },
  {
   "cell_type": "code",
   "execution_count": 31,
   "metadata": {},
   "outputs": [
    {
     "data": {
      "image/png": "[encoded data removed]",
      "text/plain": [
       "<Figure size 432x288 with 1 Axes>"
      ]
     },
     "metadata": {
      "needs_background": "light"
     },
     "output_type": "display_data"
    }
   ],
   "source": [
    "# group log(SCI) residual into 30 equal-sized bins and plot binscatters\n",
    "bins_resid = pd.cut(x=it_resid_df['log_sci_resid'], bins=30, precision=3)\n",
    "\n",
    "sns.regplot(x=it_resid_df.groupby(bins_resid).mean()[['log_sci_resid']], \n",
    "            y=it_resid_df.groupby(bins_resid).mean()[['cases_per_10k_resid']], \n",
    "            scatter_kws={'alpha':0.5, 'color':'blue'}, \n",
    "            line_kws={'color':'red'}, \n",
    "            order=2)\n",
    "\n",
    "plt.ylabel('Cases per 10k people (residual)')\n",
    "plt.xlabel('log(Social Connectedness) (residual)')\n",
    "plt.title('Reproduction - Lodi binscatter with controls')\n",
    "plt.grid()\n",
    "plt.show()"
   ]
  },
  {
   "cell_type": "code",
   "execution_count": 32,
   "metadata": {},
   "outputs": [
    {
     "data": {
      "image/png": "[encoded data removed]",
      "text/plain": [
       "<Figure size 432x288 with 1 Axes>"
      ]
     },
     "metadata": {
      "needs_background": "light"
     },
     "output_type": "display_data"
    }
   ],
   "source": [
    "# group log(SCI) into 30 equal-sized bins and plot binscatters\n",
    "bins_resid = pd.cut(x=it_resid_df['log_sci'], bins=30, precision=3)\n",
    "\n",
    "sns.regplot(x=it_resid_df.groupby(bins_resid).mean()[['log_sci']], \n",
    "            y=it_resid_df.groupby(bins_resid).mean()[['cases_per_10k_resid']], \n",
    "            scatter_kws={'alpha':0.5, 'color':'blue'}, \n",
    "            line_kws={'color':'red'}, \n",
    "            order=2)\n",
    "\n",
    "plt.ylabel('Cases per 10k people (residual)')\n",
    "plt.xlabel('log(Social Connectedness)')\n",
    "plt.title('Reproduction - Lodi binscatter with controls')\n",
    "plt.grid()\n",
    "plt.show()"
   ]
  },
  {
   "cell_type": "code",
   "execution_count": null,
   "metadata": {},
   "outputs": [],
   "source": []
  }
 ],
 "metadata": {
  "kernelspec": {
   "display_name": "Python 3",
   "language": "python",
   "name": "python3"
  },
  "language_info": {
   "codemirror_mode": {
    "name": "ipython",
    "version": 3
   },
   "file_extension": ".py",
   "mimetype": "text/x-python",
   "name": "python",
   "nbconvert_exporter": "python",
   "pygments_lexer": "ipython3",
   "version": "3.8.5"
  }
 },
 "nbformat": 4,
 "nbformat_minor": 4
}
